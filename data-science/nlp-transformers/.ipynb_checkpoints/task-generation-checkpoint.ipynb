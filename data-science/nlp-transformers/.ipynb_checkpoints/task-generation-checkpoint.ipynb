{
 "cells": [
  {
   "cell_type": "markdown",
   "id": "c92e6b0d-2026-4841-a93d-c6ebfc5e9136",
   "metadata": {},
   "source": [
    "# Generation"
   ]
  },
  {
   "cell_type": "code",
   "execution_count": null,
   "id": "aec24e5c-42a5-4797-ab91-cb971683df27",
   "metadata": {},
   "outputs": [],
   "source": [
    "from transformers import pipeline\n",
    "import pandas as pd"
   ]
  },
  {
   "cell_type": "code",
   "execution_count": null,
   "id": "63317c3e-78f5-4216-a9fd-dccf5a1b938e",
   "metadata": {},
   "outputs": [],
   "source": [
    "generator = pipeline('text-generation')\n",
    "text = text = 'Dear Amazon, last week I ordered an Optimus Prime action figure from your online store. Unfortunately when I opened it, I discovered to my horror that it was a Megatron action figure instead. Can I please exchange it for the action figure that I ordered?'\n",
    "response = 'Dear Customer, I am sorry to hear that your order was mixed up.'\n",
    "prompt = text + \"\\n\\nCustomer service response:\\n\" + response\n",
    "outputs = generator(prompt, max_length=200)\n",
    "print(outputs[0]['generated_text'])"
   ]
  }
 ],
 "metadata": {
  "kernelspec": {
   "display_name": "Python 3 (ipykernel)",
   "language": "python",
   "name": "python3"
  },
  "language_info": {
   "codemirror_mode": {
    "name": "ipython",
    "version": 3
   },
   "file_extension": ".py",
   "mimetype": "text/x-python",
   "name": "python",
   "nbconvert_exporter": "python",
   "pygments_lexer": "ipython3",
   "version": "3.9.10"
  }
 },
 "nbformat": 4,
 "nbformat_minor": 5
}
