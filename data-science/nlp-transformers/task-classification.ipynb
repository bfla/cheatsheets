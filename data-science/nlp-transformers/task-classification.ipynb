{
 "cells": [
  {
   "cell_type": "markdown",
   "id": "6d0a0148-1b7f-4169-90b8-d4303f005451",
   "metadata": {},
   "source": [
    "# Text Classification"
   ]
  },
  {
   "cell_type": "code",
   "execution_count": null,
   "id": "54e3a36a-dc78-453c-aae5-553a0bbc6256",
   "metadata": {},
   "outputs": [],
   "source": [
    "from transformers import pipeline\n",
    "import pandas as pd"
   ]
  },
  {
   "cell_type": "code",
   "execution_count": null,
   "id": "b2e1e7b3-ae62-4939-beed-613c166597a1",
   "metadata": {},
   "outputs": [],
   "source": [
    "# by default, will use a DistelBERT sentiment analysis model\n",
    "classifier = pipeline('text-classification')\n",
    "text = 'This product is really terrible. I hate it.'\n",
    "outputs = classifier(text)\n",
    "pd.DataFrame(outputs)"
   ]
  },
  {
   "cell_type": "code",
   "execution_count": null,
   "id": "7824c868-8295-491d-ab04-5c4e533c274d",
   "metadata": {},
   "outputs": [],
   "source": []
  }
 ],
 "metadata": {
  "kernelspec": {
   "display_name": "Python 3 (ipykernel)",
   "language": "python",
   "name": "python3"
  },
  "language_info": {
   "codemirror_mode": {
    "name": "ipython",
    "version": 3
   },
   "file_extension": ".py",
   "mimetype": "text/x-python",
   "name": "python",
   "nbconvert_exporter": "python",
   "pygments_lexer": "ipython3",
   "version": "3.9.10"
  }
 },
 "nbformat": 4,
 "nbformat_minor": 5
}
